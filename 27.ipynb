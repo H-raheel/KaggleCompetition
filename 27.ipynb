{
  "metadata": {
    "kernelspec": {
      "language": "python",
      "display_name": "Python 3",
      "name": "python3"
    },
    "language_info": {
      "name": "python",
      "version": "3.10.14",
      "mimetype": "text/x-python",
      "codemirror_mode": {
        "name": "ipython",
        "version": 3
      },
      "pygments_lexer": "ipython3",
      "nbconvert_exporter": "python",
      "file_extension": ".py"
    },
    "kaggle": {
      "accelerator": "none",
      "dataSources": [
        {
          "sourceId": 87171,
          "databundleVersionId": 9897270,
          "sourceType": "competition"
        }
      ],
      "dockerImageVersionId": 30786,
      "isInternetEnabled": false,
      "language": "python",
      "sourceType": "notebook",
      "isGpuEnabled": false
    },
    "colab": {
      "provenance": []
    }
  },
  "nbformat_minor": 0,
  "nbformat": 4,
  "cells": [
    {
      "cell_type": "code",
      "source": [
        "import pandas as pd\n",
        "import numpy as np\n",
        "from sklearn.model_selection import train_test_split, GridSearchCV\n",
        "from sklearn.feature_selection import SequentialFeatureSelector\n",
        "from sklearn.ensemble import GradientBoostingClassifier, VotingClassifier, RandomForestClassifier,StackingClassifier,BaggingClassifier,AdaBoostClassifier,ExtraTreesClassifier\n",
        "from sklearn.preprocessing import MinMaxScaler,StandardScaler\n",
        "from sklearn.metrics import  roc_auc_score\n",
        "from sklearn.impute import SimpleImputer, KNNImputer\n",
        "from sklearn.preprocessing import MinMaxScaler\n",
        "from sklearn.tree import DecisionTreeClassifier\n",
        "import os\n",
        "# Import PCA from sklearn.decomposition\n",
        "from sklearn.decomposition import PCA\n",
        "from sklearn.naive_bayes import GaussianNB"
      ],
      "metadata": {
        "_uuid": "8f2839f25d086af736a60e9eeb907d3b93b6e0e5",
        "_cell_guid": "b1076dfc-b9ad-4769-8c92-a6c4dae69d19",
        "execution": {
          "iopub.status.busy": "2024-10-25T19:59:41.074036Z",
          "iopub.execute_input": "2024-10-25T19:59:41.074467Z",
          "iopub.status.idle": "2024-10-25T19:59:41.153378Z",
          "shell.execute_reply.started": "2024-10-25T19:59:41.074428Z",
          "shell.execute_reply": "2024-10-25T19:59:41.152067Z"
        },
        "trusted": true,
        "id": "7fe8X9XuRpzR"
      },
      "execution_count": 27,
      "outputs": []
    },
    {
      "cell_type": "code",
      "source": [
        "\n",
        "train_set=pd.read_csv('train_set.csv')\n",
        "test_set=pd.read_csv('test_set.csv')"
      ],
      "metadata": {
        "execution": {
          "iopub.status.busy": "2024-10-25T20:00:28.645265Z",
          "iopub.execute_input": "2024-10-25T20:00:28.645761Z",
          "iopub.status.idle": "2024-10-25T20:00:28.930839Z",
          "shell.execute_reply.started": "2024-10-25T20:00:28.645684Z",
          "shell.execute_reply": "2024-10-25T20:00:28.929090Z"
        },
        "trusted": true,
        "id": "gFhg29HWRpzY"
      },
      "execution_count": 28,
      "outputs": []
    },
    {
      "cell_type": "code",
      "source": [
        "\n",
        "# Find missing values in the training set\n",
        "missing_values = train_set.isnull().sum()\n",
        "print(missing_values[missing_values > 0])\n",
        "\n",
        "# Find missing values in the test set\n",
        "missing_values = test_set.isnull().sum()\n",
        "print(missing_values[missing_values > 0])"
      ],
      "metadata": {
        "execution": {
          "iopub.status.busy": "2024-10-25T19:58:14.793846Z",
          "iopub.status.idle": "2024-10-25T19:58:14.794300Z",
          "shell.execute_reply.started": "2024-10-25T19:58:14.794087Z",
          "shell.execute_reply": "2024-10-25T19:58:14.794108Z"
        },
        "trusted": true,
        "colab": {
          "base_uri": "https://localhost:8080/"
        },
        "id": "qkbD-5U2Rpza",
        "outputId": "d3a8002c-58ce-4c6d-c0d1-11ae1a36e92c"
      },
      "execution_count": 29,
      "outputs": [
        {
          "output_type": "stream",
          "name": "stdout",
          "text": [
            "X2     2590\n",
            "X3     2139\n",
            "X75     456\n",
            "X76     444\n",
            "X77     447\n",
            "X78     447\n",
            "dtype: int64\n",
            "X2     1085\n",
            "X3      971\n",
            "X75     186\n",
            "X76     198\n",
            "X77     195\n",
            "X78     195\n",
            "dtype: int64\n"
          ]
        }
      ]
    },
    {
      "cell_type": "code",
      "source": [
        "categorical_cols = []\n",
        "numerical_cols = []\n",
        "\n",
        "for column in train_set.columns:\n",
        "  if train_set[column].dtype == object or train_set[column].nunique() < 10:\n",
        "    categorical_cols.append(column)\n",
        "  else:\n",
        "    numerical_cols.append(column)\n",
        "\n",
        "print(\"Categorical Columns:\", categorical_cols)\n",
        "print(\"Numerical Columns:\", numerical_cols)"
      ],
      "metadata": {
        "execution": {
          "iopub.status.busy": "2024-10-25T19:58:14.795777Z",
          "iopub.status.idle": "2024-10-25T19:58:14.796231Z",
          "shell.execute_reply.started": "2024-10-25T19:58:14.796018Z",
          "shell.execute_reply": "2024-10-25T19:58:14.796040Z"
        },
        "trusted": true,
        "colab": {
          "base_uri": "https://localhost:8080/"
        },
        "id": "6GtZQz0gRpzb",
        "outputId": "bb89d008-1520-4840-8f20-b138043e83f9"
      },
      "execution_count": 30,
      "outputs": [
        {
          "output_type": "stream",
          "name": "stdout",
          "text": [
            "Categorical Columns: ['X4', 'X5', 'X6', 'X8', 'X10', 'X11', 'X16', 'Y']\n",
            "Numerical Columns: ['RecordId', 'X2', 'X3', 'X7', 'X9', 'X12', 'X13', 'X14', 'X15', 'X17', 'X18', 'X19', 'X20', 'X21', 'X22', 'X23', 'X24', 'X25', 'X26', 'X27', 'X28', 'X29', 'X30', 'X31', 'X32', 'X33', 'X34', 'X35', 'X36', 'X37', 'X38', 'X39', 'X40', 'X41', 'X42', 'X43', 'X44', 'X45', 'X46', 'X47', 'X48', 'X49', 'X50', 'X51', 'X52', 'X53', 'X54', 'X55', 'X56', 'X57', 'X58', 'X59', 'X60', 'X61', 'X62', 'X63', 'X64', 'X65', 'X66', 'X67', 'X68', 'X69', 'X70', 'X71', 'X72', 'X73', 'X74', 'X75', 'X76', 'X77', 'X78']\n"
          ]
        }
      ]
    },
    {
      "cell_type": "code",
      "source": [
        "# Handle missing values for both train and test datasets\n",
        "for column in categorical_cols:\n",
        "  if column in train_set.columns and train_set[column].isnull().any():\n",
        "    mode_imputer = SimpleImputer(strategy='most_frequent')\n",
        "    train_set[column] = mode_imputer.fit_transform(train_set[[column]])\n",
        "  if column in test_set.columns and test_set[column].isnull().any():\n",
        "    if column in train_set.columns:\n",
        "      mode_imputer = SimpleImputer(strategy='most_frequent')\n",
        "      test_set[column] = mode_imputer.fit_transform(test_set[[column]])\n",
        "    else:\n",
        "      print(f\"Warning: Column '{column}' is missing in the training set and cannot be imputed in the test set.\")\n",
        "\n",
        "for column in numerical_cols:\n",
        "  if column in train_set.columns and train_set[column].isnull().any():\n",
        "    mean_imputer = SimpleImputer(strategy='mean')\n",
        "    train_set[column] = mean_imputer.fit_transform(train_set[[column]])\n",
        "  if column in test_set.columns and test_set[column].isnull().any():\n",
        "    if column in train_set.columns:\n",
        "      mean_imputer = SimpleImputer(strategy='mean')\n",
        "      test_set[column] = mean_imputer.fit_transform(test_set[[column]])\n",
        "    else:\n",
        "      print(f\"Warning: Column '{column}' is missing in the training set and cannot be imputed in the test set.\")\n",
        "\n",
        "\n",
        "# Find missing values in the training set\n",
        "missing_values = train_set.isnull().sum()\n",
        "print(missing_values[missing_values > 0])\n",
        "\n",
        "# Find missing values in the test set\n",
        "missing_values = test_set.isnull().sum()\n",
        "print(missing_values[missing_values > 0])\n",
        "\n"
      ],
      "metadata": {
        "execution": {
          "iopub.status.busy": "2024-10-25T19:58:14.798429Z",
          "iopub.status.idle": "2024-10-25T19:58:14.798923Z",
          "shell.execute_reply.started": "2024-10-25T19:58:14.798653Z",
          "shell.execute_reply": "2024-10-25T19:58:14.798675Z"
        },
        "trusted": true,
        "colab": {
          "base_uri": "https://localhost:8080/"
        },
        "id": "C1E0otVCRpzc",
        "outputId": "634188df-bd9c-4b40-9026-2f7691909d97"
      },
      "execution_count": 31,
      "outputs": [
        {
          "output_type": "stream",
          "name": "stdout",
          "text": [
            "Series([], dtype: int64)\n",
            "Series([], dtype: int64)\n"
          ]
        }
      ]
    },
    {
      "cell_type": "code",
      "source": [
        "\n",
        "\n",
        "# Assuming train_set and test_set are pandas DataFrames\n",
        "# Get all columns except 'Y' for X\n",
        "X = train_set[[col for col in train_set.columns if col != 'Y']]\n",
        "\n",
        "# Get only 'Y' column for y\n",
        "y = train_set['Y']\n",
        "\n",
        "# Select the same features for the test data\n",
        "X_testdata = test_set[[col for col in test_set.columns if col != 'Y']]\n",
        "if 'RecordId' in X.columns:\n",
        "  X = X.drop('RecordId', axis=1)\n",
        "if 'RecordId' in X_testdata.columns:\n",
        "  X_testdata = X_testdata.drop('RecordId', axis=1)\n",
        "\n",
        "# ... rest of your code (scaling, feature selection, model training, etc.) ...\n",
        "X.columns"
      ],
      "metadata": {
        "execution": {
          "iopub.status.busy": "2024-10-25T19:58:14.800947Z",
          "iopub.status.idle": "2024-10-25T19:58:14.801519Z",
          "shell.execute_reply.started": "2024-10-25T19:58:14.801226Z",
          "shell.execute_reply": "2024-10-25T19:58:14.801255Z"
        },
        "trusted": true,
        "colab": {
          "base_uri": "https://localhost:8080/"
        },
        "id": "6pNQQ6YfRpze",
        "outputId": "b9c154e4-14d6-406f-fb1a-4ceb3fbc5b7e"
      },
      "execution_count": 32,
      "outputs": [
        {
          "output_type": "execute_result",
          "data": {
            "text/plain": [
              "Index(['X2', 'X3', 'X4', 'X5', 'X6', 'X7', 'X8', 'X9', 'X10', 'X11', 'X12',\n",
              "       'X13', 'X14', 'X15', 'X16', 'X17', 'X18', 'X19', 'X20', 'X21', 'X22',\n",
              "       'X23', 'X24', 'X25', 'X26', 'X27', 'X28', 'X29', 'X30', 'X31', 'X32',\n",
              "       'X33', 'X34', 'X35', 'X36', 'X37', 'X38', 'X39', 'X40', 'X41', 'X42',\n",
              "       'X43', 'X44', 'X45', 'X46', 'X47', 'X48', 'X49', 'X50', 'X51', 'X52',\n",
              "       'X53', 'X54', 'X55', 'X56', 'X57', 'X58', 'X59', 'X60', 'X61', 'X62',\n",
              "       'X63', 'X64', 'X65', 'X66', 'X67', 'X68', 'X69', 'X70', 'X71', 'X72',\n",
              "       'X73', 'X74', 'X75', 'X76', 'X77', 'X78'],\n",
              "      dtype='object')"
            ]
          },
          "metadata": {},
          "execution_count": 32
        }
      ]
    },
    {
      "cell_type": "code",
      "source": [
        "scalar=MinMaxScaler()\n",
        "X = scalar.fit_transform(X)\n",
        "X_testdata = scalar.transform(X_testdata)\n",
        "\n",
        "\n"
      ],
      "metadata": {
        "execution": {
          "iopub.status.busy": "2024-10-25T19:58:14.803200Z",
          "iopub.status.idle": "2024-10-25T19:58:14.803623Z",
          "shell.execute_reply.started": "2024-10-25T19:58:14.803411Z",
          "shell.execute_reply": "2024-10-25T19:58:14.803432Z"
        },
        "trusted": true,
        "id": "aXDeWjs_Rpzf"
      },
      "execution_count": null,
      "outputs": []
    },
    {
      "cell_type": "code",
      "source": [
        "from sklearn.ensemble import ExtraTreesClassifier\n",
        "from sklearn.feature_selection import SelectFromModel\n",
        "\n",
        "# Train Extra Trees Classifier on the training data\n",
        "clf = ExtraTreesClassifier(\n",
        "    n_estimators=1000,    # Number of trees in the forest\n",
        "    max_depth=5,          # Maximum depth of each tree (adjust as needed)\n",
        "    min_samples_split=9,  # Minimum number of samples required to split a node\n",
        "    min_samples_leaf=50,  # Minimum number of samples required at each leaf node\n",
        "    random_state=42\n",
        ")\n",
        "clf.fit(X, y)\n",
        "\n",
        "# Option 1: Using mean threshold\n",
        "# selector_mean = SelectFromModel(clf, threshold=\"mean\", prefit=True)\n",
        "# X_selected_mean = selector_mean.transform(X)\n",
        "# X_test_selected_mean = selector_mean.transform(X_testdata)\n",
        "\n",
        "# Option 2: Using a custom threshold value\n",
        "custom_threshold = 0.1  # Set a custom threshold for feature importance\n",
        "selector_custom = SelectFromModel(clf, threshold=custom_threshold, prefit=True)\n",
        "X_selected_custom = selector_custom.transform(X)\n",
        "X_test_selected_custom = selector_custom.transform(X_testdata)\n",
        "\n",
        "# Option 3: Using a quantile threshold (e.g., top 25% features)\n",
        "# import numpy as np\n",
        "\n",
        "# feature_importances = clf.feature_importances_\n",
        "# quantile_threshold = np.percentile(feature_importances, 90)  # Top 10% most important features\n",
        "# selector_quantile = SelectFromModel(clf, threshold=quantile_threshold, prefit=True)\n",
        "# X_selected_quantile = selector_quantile.transform(X)\n",
        "# X_test_selected_quantile = selector_quantile.transform(X_testdata)\n",
        "\n",
        "# Get the selected feature names for each threshold\n",
        "# selected_features_mean = X.columns[selector_mean.get_support()]\n",
        "# selected_features_custom = X.columns[selector_custom.get_support()]\n",
        "# selected_features_quantile = X.columns[selector_quantile.get_support()]\n",
        "\n",
        "# print(\"Selected features with mean threshold:\", selected_features_mean)\n",
        "# print(\"Selected features with custom threshold:\", selected_features_custom)\n",
        "# print(\"Selected features with quantile threshold:\", selected_features_quantile)\n"
      ],
      "metadata": {
        "id": "VmZUtMa98S1X"
      },
      "execution_count": null,
      "outputs": []
    },
    {
      "cell_type": "code",
      "source": [
        "import pandas as pd\n",
        "\n",
        "# Assuming feature names are known\n",
        "feature_names = [f'X{i}' for i in range(X.shape[1])]  # Replace with actual feature names\n",
        "X_df = pd.DataFrame(X, columns=feature_names)\n",
        "\n",
        "# # Then use X_df in the code\n",
        "# selected_features_mean = X_df.columns[selector_mean.get_support()]\n",
        "selected_features_custom = X_df.columns[selector_custom.get_support()]\n",
        "# selected_features_quantile = X_df.columns[selector_quantile.get_support()]\n",
        "\n",
        "# print(\"Selected features with mean threshold:\", selected_features_mean)\n",
        "print(\"Selected features with custom threshold:\", selected_features_custom)\n",
        "# print(\"Selected features with quantile threshold:\", selected_features_quantile)\n"
      ],
      "metadata": {
        "id": "BaJIkWSBfAXG"
      },
      "execution_count": null,
      "outputs": []
    },
    {
      "cell_type": "code",
      "source": [
        "import pandas as pd\n",
        "\n",
        "# Assuming X_testdata is a NumPy array, convert it to a DataFrame first\n",
        "X_testdata_df = pd.DataFrame(X_testdata, columns=feature_names)  # Use the same feature names as for X_df\n",
        "\n",
        "# Now you can use selected_features_mean to select columns\n",
        "X_selected_mean_df = X_testdata_df[selected_features_custom]\n",
        "X_test_selected_mean_df = pd.DataFrame(X, columns=feature_names)[selected_features_custom]  # Also convert X to DataFrame if needed\n",
        "\n",
        "\n",
        "X=X_test_selected_mean_df\n",
        "X_testdata=X_selected_mean_df\n",
        "\n",
        "X.columns"
      ],
      "metadata": {
        "id": "hqFJgC_Oim2t"
      },
      "execution_count": null,
      "outputs": []
    },
    {
      "cell_type": "code",
      "source": [
        "# # Get the selected feature indices\n",
        "# selected_feature_indices = selector.get_support(indices=True)\n",
        "\n",
        "# # Instead of using X.columns, use the original DataFrame's columns (train_set)\n",
        "# # Assuming 'Y' and potentially 'RecordId' were dropped from X\n",
        "# original_features = [col for col in train_set.columns if col not in ['Y', 'RecordId']]\n",
        "\n",
        "# # Get the names of the selected features using the indices and original features\n",
        "# selected_features = [original_features[i] for i in selected_feature_indices]\n",
        "\n",
        "# # Now you can use selected_features to create DataFrames from your arrays\n",
        "# X_selected_df = pd.DataFrame(X_selected, columns=selected_features, index=train_set.index)\n",
        "# X_test_selected_df = pd.DataFrame(X_test_selected, columns=selected_features, index=test_set.index)\n",
        "\n",
        "# print(\"Selected features:\", selected_features)"
      ],
      "metadata": {
        "colab": {
          "base_uri": "https://localhost:8080/"
        },
        "id": "wuIOf2Nq-Bg1",
        "outputId": "7f5d407f-7ad6-4f90-8bf3-c052ef1418d7"
      },
      "execution_count": null,
      "outputs": [
        {
          "output_type": "stream",
          "name": "stdout",
          "text": [
            "Selected features: ['X6', 'X17', 'X18', 'X20', 'X22', 'X25', 'X26', 'X28', 'X30', 'X32', 'X34', 'X36', 'X40', 'X42', 'X44', 'X45', 'X46', 'X62', 'X64', 'X69', 'X70']\n"
          ]
        }
      ]
    },
    {
      "cell_type": "code",
      "source": [
        "# X=X_selected_df\n",
        "# X_testdata=X_test_selected_df\n",
        "\n",
        "# X.columns"
      ],
      "metadata": {
        "colab": {
          "base_uri": "https://localhost:8080/"
        },
        "id": "rD_gpmIL-qqK",
        "outputId": "c1e28aa9-c4a7-4719-e269-a2ebff72e581"
      },
      "execution_count": null,
      "outputs": [
        {
          "output_type": "execute_result",
          "data": {
            "text/plain": [
              "Index(['X6', 'X17', 'X18', 'X20', 'X22', 'X25', 'X26', 'X28', 'X30', 'X32',\n",
              "       'X34', 'X36', 'X40', 'X42', 'X44', 'X45', 'X46', 'X62', 'X64', 'X69',\n",
              "       'X70'],\n",
              "      dtype='object')"
            ]
          },
          "metadata": {},
          "execution_count": 48
        }
      ]
    },
    {
      "cell_type": "code",
      "source": [
        "trainX, testX, trainy, testy = train_test_split(X, y, test_size=0.4, random_state=2)"
      ],
      "metadata": {
        "execution": {
          "iopub.status.busy": "2024-10-25T19:58:14.805433Z",
          "iopub.status.idle": "2024-10-25T19:58:14.805915Z",
          "shell.execute_reply.started": "2024-10-25T19:58:14.805656Z",
          "shell.execute_reply": "2024-10-25T19:58:14.805678Z"
        },
        "trusted": true,
        "id": "UFEuLu_1Rpzg"
      },
      "execution_count": null,
      "outputs": []
    },
    {
      "cell_type": "code",
      "source": [
        "from sklearn.feature_selection import SequentialFeatureSelector\n",
        "# Initialize the ExtraTreesClassifier with appropriate hyperparameters\n",
        "clf = ExtraTreesClassifier(\n",
        "    n_estimators=1000,  # Number of trees in the forest\n",
        "    max_depth=100,      # Maximum depth of each tree (adjust as needed)\n",
        "    min_samples_split=9,  # Minimum number of samples required to split a node\n",
        "    min_samples_leaf=50,   # Minimum number of samples required at each leaf node\n",
        "    #max_features='sqrt',  # Number of features to consider when looking for the best split\n",
        "    random_state=42\n",
        ")\n",
        "clf.fit(trainX, trainy)\n",
        "\n",
        "sfs = SequentialFeatureSelector(clf, direction='backward',n_features_to_select=15, scoring='roc_auc', n_jobs=-1)\n",
        "sfs.fit(X, y)\n",
        "print(sfs.get_feature_names_out())"
      ],
      "metadata": {
        "id": "Uxi_URhpT8US"
      },
      "execution_count": null,
      "outputs": []
    },
    {
      "cell_type": "code",
      "source": [
        "# Initialize the ExtraTreesClassifier with appropriate hyperparameters\n",
        "clf = ExtraTreesClassifier(\n",
        "    n_estimators=1000,  # Number of trees in the forest\n",
        "    max_depth=100,      # Maximum depth of each tree (adjust as needed)\n",
        "    min_samples_split=9,  # Minimum number of samples required to split a node\n",
        "    min_samples_leaf=50,   # Minimum number of samples required at each leaf node\n",
        "    #max_features='sqrt',  # Number of features to consider when looking for the best split\n",
        "    random_state=42\n",
        ") random_state=42\n",
        "\n",
        "clf.fit(trainX, trainy)\n"
      ],
      "metadata": {
        "execution": {
          "iopub.status.busy": "2024-10-25T19:58:14.807389Z",
          "iopub.status.idle": "2024-10-25T19:58:14.807866Z",
          "shell.execute_reply.started": "2024-10-25T19:58:14.807609Z",
          "shell.execute_reply": "2024-10-25T19:58:14.807630Z"
        },
        "trusted": true,
        "id": "GytQz5CWRpzh"
      },
      "execution_count": null,
      "outputs": []
    },
    {
      "cell_type": "code",
      "source": [
        "from sklearn.metrics import roc_curve, roc_auc_score, accuracy_score\n",
        "import matplotlib.pyplot as plt\n",
        "\n",
        "y_pred = clf.predict(testX)\n",
        "y_probs = clf.predict_proba(testX)[:, 1]\n",
        "fpr, tpr, thresholds = roc_curve(testy, y_probs)\n",
        "\n",
        "\n",
        "\n",
        "# Calculate AUC\n",
        "auc_score = roc_auc_score(testy, y_probs)\n",
        "print(f'AUC: {auc_score}')"
      ],
      "metadata": {
        "execution": {
          "iopub.status.busy": "2024-10-25T19:58:14.809261Z",
          "iopub.status.idle": "2024-10-25T19:58:14.809667Z",
          "shell.execute_reply.started": "2024-10-25T19:58:14.809462Z",
          "shell.execute_reply": "2024-10-25T19:58:14.809482Z"
        },
        "trusted": true,
        "id": "cWWbLzDbRpzi"
      },
      "execution_count": null,
      "outputs": []
    },
    {
      "cell_type": "code",
      "source": [
        "clf.fit(X, y)"
      ],
      "metadata": {
        "colab": {
          "base_uri": "https://localhost:8080/",
          "height": 98
        },
        "id": "3j0iQIt2U9QB",
        "outputId": "c480658a-2ac5-4ad6-f68e-287d8c4e1c05"
      },
      "execution_count": null,
      "outputs": [
        {
          "output_type": "execute_result",
          "data": {
            "text/plain": [
              "ExtraTreesClassifier(max_depth=5, min_samples_leaf=50, min_samples_split=9,\n",
              "                     n_estimators=1000, random_state=42)"
            ],
            "text/html": [
              "<style>#sk-container-id-7 {\n",
              "  /* Definition of color scheme common for light and dark mode */\n",
              "  --sklearn-color-text: black;\n",
              "  --sklearn-color-line: gray;\n",
              "  /* Definition of color scheme for unfitted estimators */\n",
              "  --sklearn-color-unfitted-level-0: #fff5e6;\n",
              "  --sklearn-color-unfitted-level-1: #f6e4d2;\n",
              "  --sklearn-color-unfitted-level-2: #ffe0b3;\n",
              "  --sklearn-color-unfitted-level-3: chocolate;\n",
              "  /* Definition of color scheme for fitted estimators */\n",
              "  --sklearn-color-fitted-level-0: #f0f8ff;\n",
              "  --sklearn-color-fitted-level-1: #d4ebff;\n",
              "  --sklearn-color-fitted-level-2: #b3dbfd;\n",
              "  --sklearn-color-fitted-level-3: cornflowerblue;\n",
              "\n",
              "  /* Specific color for light theme */\n",
              "  --sklearn-color-text-on-default-background: var(--sg-text-color, var(--theme-code-foreground, var(--jp-content-font-color1, black)));\n",
              "  --sklearn-color-background: var(--sg-background-color, var(--theme-background, var(--jp-layout-color0, white)));\n",
              "  --sklearn-color-border-box: var(--sg-text-color, var(--theme-code-foreground, var(--jp-content-font-color1, black)));\n",
              "  --sklearn-color-icon: #696969;\n",
              "\n",
              "  @media (prefers-color-scheme: dark) {\n",
              "    /* Redefinition of color scheme for dark theme */\n",
              "    --sklearn-color-text-on-default-background: var(--sg-text-color, var(--theme-code-foreground, var(--jp-content-font-color1, white)));\n",
              "    --sklearn-color-background: var(--sg-background-color, var(--theme-background, var(--jp-layout-color0, #111)));\n",
              "    --sklearn-color-border-box: var(--sg-text-color, var(--theme-code-foreground, var(--jp-content-font-color1, white)));\n",
              "    --sklearn-color-icon: #878787;\n",
              "  }\n",
              "}\n",
              "\n",
              "#sk-container-id-7 {\n",
              "  color: var(--sklearn-color-text);\n",
              "}\n",
              "\n",
              "#sk-container-id-7 pre {\n",
              "  padding: 0;\n",
              "}\n",
              "\n",
              "#sk-container-id-7 input.sk-hidden--visually {\n",
              "  border: 0;\n",
              "  clip: rect(1px 1px 1px 1px);\n",
              "  clip: rect(1px, 1px, 1px, 1px);\n",
              "  height: 1px;\n",
              "  margin: -1px;\n",
              "  overflow: hidden;\n",
              "  padding: 0;\n",
              "  position: absolute;\n",
              "  width: 1px;\n",
              "}\n",
              "\n",
              "#sk-container-id-7 div.sk-dashed-wrapped {\n",
              "  border: 1px dashed var(--sklearn-color-line);\n",
              "  margin: 0 0.4em 0.5em 0.4em;\n",
              "  box-sizing: border-box;\n",
              "  padding-bottom: 0.4em;\n",
              "  background-color: var(--sklearn-color-background);\n",
              "}\n",
              "\n",
              "#sk-container-id-7 div.sk-container {\n",
              "  /* jupyter's `normalize.less` sets `[hidden] { display: none; }`\n",
              "     but bootstrap.min.css set `[hidden] { display: none !important; }`\n",
              "     so we also need the `!important` here to be able to override the\n",
              "     default hidden behavior on the sphinx rendered scikit-learn.org.\n",
              "     See: https://github.com/scikit-learn/scikit-learn/issues/21755 */\n",
              "  display: inline-block !important;\n",
              "  position: relative;\n",
              "}\n",
              "\n",
              "#sk-container-id-7 div.sk-text-repr-fallback {\n",
              "  display: none;\n",
              "}\n",
              "\n",
              "div.sk-parallel-item,\n",
              "div.sk-serial,\n",
              "div.sk-item {\n",
              "  /* draw centered vertical line to link estimators */\n",
              "  background-image: linear-gradient(var(--sklearn-color-text-on-default-background), var(--sklearn-color-text-on-default-background));\n",
              "  background-size: 2px 100%;\n",
              "  background-repeat: no-repeat;\n",
              "  background-position: center center;\n",
              "}\n",
              "\n",
              "/* Parallel-specific style estimator block */\n",
              "\n",
              "#sk-container-id-7 div.sk-parallel-item::after {\n",
              "  content: \"\";\n",
              "  width: 100%;\n",
              "  border-bottom: 2px solid var(--sklearn-color-text-on-default-background);\n",
              "  flex-grow: 1;\n",
              "}\n",
              "\n",
              "#sk-container-id-7 div.sk-parallel {\n",
              "  display: flex;\n",
              "  align-items: stretch;\n",
              "  justify-content: center;\n",
              "  background-color: var(--sklearn-color-background);\n",
              "  position: relative;\n",
              "}\n",
              "\n",
              "#sk-container-id-7 div.sk-parallel-item {\n",
              "  display: flex;\n",
              "  flex-direction: column;\n",
              "}\n",
              "\n",
              "#sk-container-id-7 div.sk-parallel-item:first-child::after {\n",
              "  align-self: flex-end;\n",
              "  width: 50%;\n",
              "}\n",
              "\n",
              "#sk-container-id-7 div.sk-parallel-item:last-child::after {\n",
              "  align-self: flex-start;\n",
              "  width: 50%;\n",
              "}\n",
              "\n",
              "#sk-container-id-7 div.sk-parallel-item:only-child::after {\n",
              "  width: 0;\n",
              "}\n",
              "\n",
              "/* Serial-specific style estimator block */\n",
              "\n",
              "#sk-container-id-7 div.sk-serial {\n",
              "  display: flex;\n",
              "  flex-direction: column;\n",
              "  align-items: center;\n",
              "  background-color: var(--sklearn-color-background);\n",
              "  padding-right: 1em;\n",
              "  padding-left: 1em;\n",
              "}\n",
              "\n",
              "\n",
              "/* Toggleable style: style used for estimator/Pipeline/ColumnTransformer box that is\n",
              "clickable and can be expanded/collapsed.\n",
              "- Pipeline and ColumnTransformer use this feature and define the default style\n",
              "- Estimators will overwrite some part of the style using the `sk-estimator` class\n",
              "*/\n",
              "\n",
              "/* Pipeline and ColumnTransformer style (default) */\n",
              "\n",
              "#sk-container-id-7 div.sk-toggleable {\n",
              "  /* Default theme specific background. It is overwritten whether we have a\n",
              "  specific estimator or a Pipeline/ColumnTransformer */\n",
              "  background-color: var(--sklearn-color-background);\n",
              "}\n",
              "\n",
              "/* Toggleable label */\n",
              "#sk-container-id-7 label.sk-toggleable__label {\n",
              "  cursor: pointer;\n",
              "  display: block;\n",
              "  width: 100%;\n",
              "  margin-bottom: 0;\n",
              "  padding: 0.5em;\n",
              "  box-sizing: border-box;\n",
              "  text-align: center;\n",
              "}\n",
              "\n",
              "#sk-container-id-7 label.sk-toggleable__label-arrow:before {\n",
              "  /* Arrow on the left of the label */\n",
              "  content: \"▸\";\n",
              "  float: left;\n",
              "  margin-right: 0.25em;\n",
              "  color: var(--sklearn-color-icon);\n",
              "}\n",
              "\n",
              "#sk-container-id-7 label.sk-toggleable__label-arrow:hover:before {\n",
              "  color: var(--sklearn-color-text);\n",
              "}\n",
              "\n",
              "/* Toggleable content - dropdown */\n",
              "\n",
              "#sk-container-id-7 div.sk-toggleable__content {\n",
              "  max-height: 0;\n",
              "  max-width: 0;\n",
              "  overflow: hidden;\n",
              "  text-align: left;\n",
              "  /* unfitted */\n",
              "  background-color: var(--sklearn-color-unfitted-level-0);\n",
              "}\n",
              "\n",
              "#sk-container-id-7 div.sk-toggleable__content.fitted {\n",
              "  /* fitted */\n",
              "  background-color: var(--sklearn-color-fitted-level-0);\n",
              "}\n",
              "\n",
              "#sk-container-id-7 div.sk-toggleable__content pre {\n",
              "  margin: 0.2em;\n",
              "  border-radius: 0.25em;\n",
              "  color: var(--sklearn-color-text);\n",
              "  /* unfitted */\n",
              "  background-color: var(--sklearn-color-unfitted-level-0);\n",
              "}\n",
              "\n",
              "#sk-container-id-7 div.sk-toggleable__content.fitted pre {\n",
              "  /* unfitted */\n",
              "  background-color: var(--sklearn-color-fitted-level-0);\n",
              "}\n",
              "\n",
              "#sk-container-id-7 input.sk-toggleable__control:checked~div.sk-toggleable__content {\n",
              "  /* Expand drop-down */\n",
              "  max-height: 200px;\n",
              "  max-width: 100%;\n",
              "  overflow: auto;\n",
              "}\n",
              "\n",
              "#sk-container-id-7 input.sk-toggleable__control:checked~label.sk-toggleable__label-arrow:before {\n",
              "  content: \"▾\";\n",
              "}\n",
              "\n",
              "/* Pipeline/ColumnTransformer-specific style */\n",
              "\n",
              "#sk-container-id-7 div.sk-label input.sk-toggleable__control:checked~label.sk-toggleable__label {\n",
              "  color: var(--sklearn-color-text);\n",
              "  background-color: var(--sklearn-color-unfitted-level-2);\n",
              "}\n",
              "\n",
              "#sk-container-id-7 div.sk-label.fitted input.sk-toggleable__control:checked~label.sk-toggleable__label {\n",
              "  background-color: var(--sklearn-color-fitted-level-2);\n",
              "}\n",
              "\n",
              "/* Estimator-specific style */\n",
              "\n",
              "/* Colorize estimator box */\n",
              "#sk-container-id-7 div.sk-estimator input.sk-toggleable__control:checked~label.sk-toggleable__label {\n",
              "  /* unfitted */\n",
              "  background-color: var(--sklearn-color-unfitted-level-2);\n",
              "}\n",
              "\n",
              "#sk-container-id-7 div.sk-estimator.fitted input.sk-toggleable__control:checked~label.sk-toggleable__label {\n",
              "  /* fitted */\n",
              "  background-color: var(--sklearn-color-fitted-level-2);\n",
              "}\n",
              "\n",
              "#sk-container-id-7 div.sk-label label.sk-toggleable__label,\n",
              "#sk-container-id-7 div.sk-label label {\n",
              "  /* The background is the default theme color */\n",
              "  color: var(--sklearn-color-text-on-default-background);\n",
              "}\n",
              "\n",
              "/* On hover, darken the color of the background */\n",
              "#sk-container-id-7 div.sk-label:hover label.sk-toggleable__label {\n",
              "  color: var(--sklearn-color-text);\n",
              "  background-color: var(--sklearn-color-unfitted-level-2);\n",
              "}\n",
              "\n",
              "/* Label box, darken color on hover, fitted */\n",
              "#sk-container-id-7 div.sk-label.fitted:hover label.sk-toggleable__label.fitted {\n",
              "  color: var(--sklearn-color-text);\n",
              "  background-color: var(--sklearn-color-fitted-level-2);\n",
              "}\n",
              "\n",
              "/* Estimator label */\n",
              "\n",
              "#sk-container-id-7 div.sk-label label {\n",
              "  font-family: monospace;\n",
              "  font-weight: bold;\n",
              "  display: inline-block;\n",
              "  line-height: 1.2em;\n",
              "}\n",
              "\n",
              "#sk-container-id-7 div.sk-label-container {\n",
              "  text-align: center;\n",
              "}\n",
              "\n",
              "/* Estimator-specific */\n",
              "#sk-container-id-7 div.sk-estimator {\n",
              "  font-family: monospace;\n",
              "  border: 1px dotted var(--sklearn-color-border-box);\n",
              "  border-radius: 0.25em;\n",
              "  box-sizing: border-box;\n",
              "  margin-bottom: 0.5em;\n",
              "  /* unfitted */\n",
              "  background-color: var(--sklearn-color-unfitted-level-0);\n",
              "}\n",
              "\n",
              "#sk-container-id-7 div.sk-estimator.fitted {\n",
              "  /* fitted */\n",
              "  background-color: var(--sklearn-color-fitted-level-0);\n",
              "}\n",
              "\n",
              "/* on hover */\n",
              "#sk-container-id-7 div.sk-estimator:hover {\n",
              "  /* unfitted */\n",
              "  background-color: var(--sklearn-color-unfitted-level-2);\n",
              "}\n",
              "\n",
              "#sk-container-id-7 div.sk-estimator.fitted:hover {\n",
              "  /* fitted */\n",
              "  background-color: var(--sklearn-color-fitted-level-2);\n",
              "}\n",
              "\n",
              "/* Specification for estimator info (e.g. \"i\" and \"?\") */\n",
              "\n",
              "/* Common style for \"i\" and \"?\" */\n",
              "\n",
              ".sk-estimator-doc-link,\n",
              "a:link.sk-estimator-doc-link,\n",
              "a:visited.sk-estimator-doc-link {\n",
              "  float: right;\n",
              "  font-size: smaller;\n",
              "  line-height: 1em;\n",
              "  font-family: monospace;\n",
              "  background-color: var(--sklearn-color-background);\n",
              "  border-radius: 1em;\n",
              "  height: 1em;\n",
              "  width: 1em;\n",
              "  text-decoration: none !important;\n",
              "  margin-left: 1ex;\n",
              "  /* unfitted */\n",
              "  border: var(--sklearn-color-unfitted-level-1) 1pt solid;\n",
              "  color: var(--sklearn-color-unfitted-level-1);\n",
              "}\n",
              "\n",
              ".sk-estimator-doc-link.fitted,\n",
              "a:link.sk-estimator-doc-link.fitted,\n",
              "a:visited.sk-estimator-doc-link.fitted {\n",
              "  /* fitted */\n",
              "  border: var(--sklearn-color-fitted-level-1) 1pt solid;\n",
              "  color: var(--sklearn-color-fitted-level-1);\n",
              "}\n",
              "\n",
              "/* On hover */\n",
              "div.sk-estimator:hover .sk-estimator-doc-link:hover,\n",
              ".sk-estimator-doc-link:hover,\n",
              "div.sk-label-container:hover .sk-estimator-doc-link:hover,\n",
              ".sk-estimator-doc-link:hover {\n",
              "  /* unfitted */\n",
              "  background-color: var(--sklearn-color-unfitted-level-3);\n",
              "  color: var(--sklearn-color-background);\n",
              "  text-decoration: none;\n",
              "}\n",
              "\n",
              "div.sk-estimator.fitted:hover .sk-estimator-doc-link.fitted:hover,\n",
              ".sk-estimator-doc-link.fitted:hover,\n",
              "div.sk-label-container:hover .sk-estimator-doc-link.fitted:hover,\n",
              ".sk-estimator-doc-link.fitted:hover {\n",
              "  /* fitted */\n",
              "  background-color: var(--sklearn-color-fitted-level-3);\n",
              "  color: var(--sklearn-color-background);\n",
              "  text-decoration: none;\n",
              "}\n",
              "\n",
              "/* Span, style for the box shown on hovering the info icon */\n",
              ".sk-estimator-doc-link span {\n",
              "  display: none;\n",
              "  z-index: 9999;\n",
              "  position: relative;\n",
              "  font-weight: normal;\n",
              "  right: .2ex;\n",
              "  padding: .5ex;\n",
              "  margin: .5ex;\n",
              "  width: min-content;\n",
              "  min-width: 20ex;\n",
              "  max-width: 50ex;\n",
              "  color: var(--sklearn-color-text);\n",
              "  box-shadow: 2pt 2pt 4pt #999;\n",
              "  /* unfitted */\n",
              "  background: var(--sklearn-color-unfitted-level-0);\n",
              "  border: .5pt solid var(--sklearn-color-unfitted-level-3);\n",
              "}\n",
              "\n",
              ".sk-estimator-doc-link.fitted span {\n",
              "  /* fitted */\n",
              "  background: var(--sklearn-color-fitted-level-0);\n",
              "  border: var(--sklearn-color-fitted-level-3);\n",
              "}\n",
              "\n",
              ".sk-estimator-doc-link:hover span {\n",
              "  display: block;\n",
              "}\n",
              "\n",
              "/* \"?\"-specific style due to the `<a>` HTML tag */\n",
              "\n",
              "#sk-container-id-7 a.estimator_doc_link {\n",
              "  float: right;\n",
              "  font-size: 1rem;\n",
              "  line-height: 1em;\n",
              "  font-family: monospace;\n",
              "  background-color: var(--sklearn-color-background);\n",
              "  border-radius: 1rem;\n",
              "  height: 1rem;\n",
              "  width: 1rem;\n",
              "  text-decoration: none;\n",
              "  /* unfitted */\n",
              "  color: var(--sklearn-color-unfitted-level-1);\n",
              "  border: var(--sklearn-color-unfitted-level-1) 1pt solid;\n",
              "}\n",
              "\n",
              "#sk-container-id-7 a.estimator_doc_link.fitted {\n",
              "  /* fitted */\n",
              "  border: var(--sklearn-color-fitted-level-1) 1pt solid;\n",
              "  color: var(--sklearn-color-fitted-level-1);\n",
              "}\n",
              "\n",
              "/* On hover */\n",
              "#sk-container-id-7 a.estimator_doc_link:hover {\n",
              "  /* unfitted */\n",
              "  background-color: var(--sklearn-color-unfitted-level-3);\n",
              "  color: var(--sklearn-color-background);\n",
              "  text-decoration: none;\n",
              "}\n",
              "\n",
              "#sk-container-id-7 a.estimator_doc_link.fitted:hover {\n",
              "  /* fitted */\n",
              "  background-color: var(--sklearn-color-fitted-level-3);\n",
              "}\n",
              "</style><div id=\"sk-container-id-7\" class=\"sk-top-container\"><div class=\"sk-text-repr-fallback\"><pre>ExtraTreesClassifier(max_depth=5, min_samples_leaf=50, min_samples_split=9,\n",
              "                     n_estimators=1000, random_state=42)</pre><b>In a Jupyter environment, please rerun this cell to show the HTML representation or trust the notebook. <br />On GitHub, the HTML representation is unable to render, please try loading this page with nbviewer.org.</b></div><div class=\"sk-container\" hidden><div class=\"sk-item\"><div class=\"sk-estimator fitted sk-toggleable\"><input class=\"sk-toggleable__control sk-hidden--visually\" id=\"sk-estimator-id-7\" type=\"checkbox\" checked><label for=\"sk-estimator-id-7\" class=\"sk-toggleable__label fitted sk-toggleable__label-arrow fitted\">&nbsp;&nbsp;ExtraTreesClassifier<a class=\"sk-estimator-doc-link fitted\" rel=\"noreferrer\" target=\"_blank\" href=\"https://scikit-learn.org/1.5/modules/generated/sklearn.ensemble.ExtraTreesClassifier.html\">?<span>Documentation for ExtraTreesClassifier</span></a><span class=\"sk-estimator-doc-link fitted\">i<span>Fitted</span></span></label><div class=\"sk-toggleable__content fitted\"><pre>ExtraTreesClassifier(max_depth=5, min_samples_leaf=50, min_samples_split=9,\n",
              "                     n_estimators=1000, random_state=42)</pre></div> </div></div></div></div>"
            ]
          },
          "metadata": {},
          "execution_count": 73
        }
      ]
    },
    {
      "cell_type": "code",
      "source": [
        "\n",
        "# Predict probabilities for the test set\n",
        "y_test_probs = clf.predict_proba(X_testdata)[:, 1]\n",
        "\n",
        "# Create a DataFrame with RecordId and predicted probabilities\n",
        "test_set['Y_probability'] = y_test_probs\n",
        "\n",
        "# Save the DataFrame to a CSV file\n",
        "test_set[['RecordId', 'Y_probability']].to_csv('test_set_with_probabilities.csv', index=False)\n",
        "\n",
        "\n",
        "import pandas as pd\n",
        "\n",
        "# Read the generated CSV file\n",
        "csv_file_path = 'test_set_with_probabilities.csv'\n",
        "test_set_with_probabilities = pd.read_csv(csv_file_path)\n",
        "\n",
        "# Get unique values in the Y_probability column\n",
        "unique_y_probabilities = test_set_with_probabilities['Y_probability'].unique()\n",
        "\n",
        "# Print the unique values\n",
        "print(unique_y_probabilities)\n",
        "print(test_set_with_probabilities)\n"
      ],
      "metadata": {
        "execution": {
          "iopub.status.busy": "2024-10-25T19:58:14.810893Z",
          "iopub.status.idle": "2024-10-25T19:58:14.811347Z",
          "shell.execute_reply.started": "2024-10-25T19:58:14.811123Z",
          "shell.execute_reply": "2024-10-25T19:58:14.811145Z"
        },
        "trusted": true,
        "colab": {
          "base_uri": "https://localhost:8080/"
        },
        "id": "2L3QYrQwRpzi",
        "outputId": "c61ee02b-3ede-404a-97f8-08bd5bf04b5c"
      },
      "execution_count": null,
      "outputs": [
        {
          "output_type": "stream",
          "name": "stdout",
          "text": [
            "[0.00136465 0.01554771 0.00153179 ... 0.00136179 0.00265299 0.00205983]\n",
            "        RecordId  Y_probability\n",
            "0         300001       0.001365\n",
            "1         300002       0.015548\n",
            "2         300003       0.001532\n",
            "3         300004       0.001000\n",
            "4         300005       0.001349\n",
            "...          ...            ...\n",
            "105477    405478       0.001019\n",
            "105478    405479       0.087493\n",
            "105479    405480       0.001362\n",
            "105480    405481       0.002653\n",
            "105481    405482       0.002060\n",
            "\n",
            "[105482 rows x 2 columns]\n"
          ]
        }
      ]
    }
  ]
}